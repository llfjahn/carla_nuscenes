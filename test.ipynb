{
 "cells": [
  {
   "cell_type": "code",
   "execution_count": 25,
   "metadata": {},
   "outputs": [],
   "source": [
    "import carla\n",
    "import math\n",
    "import random\n",
    "from utils import generate_token,get_nuscenes_rt,get_intrinsic,transform_timestamp,clamp\n",
    "client = carla.Client('localhost', 2000)\n",
    "client.set_timeout(10.0) \n",
    "world = client.get_world()"
   ]
  },
  {
   "cell_type": "code",
   "execution_count": 1030,
   "metadata": {},
   "outputs": [
    {
     "data": {
      "text/plain": [
       "1"
      ]
     },
     "execution_count": 1030,
     "metadata": {},
     "output_type": "execute_result"
    }
   ],
   "source": [
    "\n",
    "weather = carla.WeatherParameters(sun_altitude_angle=70.0,sun_azimuth_angle=90, rayleigh_scattering_scale=0.0000034)\n",
    "\n",
    "# self.weather = carla.WeatherParameters(**self.get_random_weather())\n",
    "# self.world.set_weather(self.weather)\n",
    "\n",
    "weather_param = {\n",
    "    \"cloudiness\":clamp(random.gauss(0,30)),\n",
    "    \"sun_azimuth_angle\":random.random()*360,\n",
    "    \"sun_altitude_angle\":random.random()*120-30,\n",
    "    \"precipitation\":clamp(random.gauss(0,100))*random.choice([0,0,0,1]),\n",
    "    \"precipitation_deposits\":clamp(random.gauss(0,100)),\n",
    "    \"wind_intensity\":random.random()*100,\n",
    "    \"fog_density\":clamp(random.gauss(0,30)),\n",
    "    \"fog_distance\":random.random()*100,\n",
    "    \"wetness\":clamp(random.gauss(0,100)),\n",
    "    \"fog_falloff\":random.random()*5,\n",
    "    \"scattering_intensity\":max(random.random()*4-1,0),\n",
    "    \"mie_scattering_scale\":max(random.random()*4-1,0),\n",
    "    \"rayleigh_scattering_scale\":max(random.random()*2-1,0)*random.choice([0,0,0,1])+0.0331,\n",
    "    \"dust_storm\":clamp(random.gauss(0,30))\n",
    "}\n",
    "weather = carla.WeatherParameters(**weather_param)\n",
    "world.set_weather(weather)\n",
    "max(random.random()*5-1,0)\n",
    "random.choice([0,0,0,1])"
   ]
  },
  {
   "cell_type": "code",
   "execution_count": 8,
   "metadata": {},
   "outputs": [],
   "source": [
    "world.set_weather(carla.WeatherParameters.WetCloudySunset)"
   ]
  }
 ],
 "metadata": {
  "kernelspec": {
   "display_name": "carla",
   "language": "python",
   "name": "python3"
  },
  "language_info": {
   "codemirror_mode": {
    "name": "ipython",
    "version": 3
   },
   "file_extension": ".py",
   "mimetype": "text/x-python",
   "name": "python",
   "nbconvert_exporter": "python",
   "pygments_lexer": "ipython3",
   "version": "3.8.16"
  },
  "orig_nbformat": 4,
  "vscode": {
   "interpreter": {
    "hash": "4270433e3e072f7b1e230e3294b27bf71fafa8b3ef3374c8fa7ec9081b6aa5ad"
   }
  }
 },
 "nbformat": 4,
 "nbformat_minor": 2
}
